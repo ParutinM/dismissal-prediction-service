{
 "cells": [
  {
   "cell_type": "markdown",
   "source": [
    "# The Enron Email Dataset"
   ],
   "metadata": {
    "collapsed": false
   }
  },
  {
   "cell_type": "markdown",
   "source": [
    "## 1. Downloading data\n",
    "\n",
    "More info about dataset: [link](https://www.kaggle.com/datasets/wcukierski/enron-email-dataset)\n",
    "\n",
    "Please provide your Kaggle credentials to download this dataset. Learn more: [link](http://bit.ly/kaggle-creds)"
   ],
   "metadata": {
    "collapsed": false
   }
  },
  {
   "cell_type": "code",
   "execution_count": 1,
   "outputs": [],
   "source": [
    "import os, sys, email\n",
    "import pandas as pd\n",
    "import numpy as np\n",
    "\n",
    "import opendatasets as od\n",
    "\n",
    "od.download_kaggle_dataset(\"https://www.kaggle.com/datasets/wcukierski/enron-email-dataset\", data_dir='.')"
   ],
   "metadata": {
    "collapsed": false
   }
  },
  {
   "cell_type": "code",
   "execution_count": 2,
   "outputs": [
    {
     "data": {
      "text/plain": "                       file                                            message\n0     allen-p/_sent_mail/1.  Message-ID: <18782981.1075855378110.JavaMail.e...\n1    allen-p/_sent_mail/10.  Message-ID: <15464986.1075855378456.JavaMail.e...\n2   allen-p/_sent_mail/100.  Message-ID: <24216240.1075855687451.JavaMail.e...\n3  allen-p/_sent_mail/1000.  Message-ID: <13505866.1075863688222.JavaMail.e...\n4  allen-p/_sent_mail/1001.  Message-ID: <30922949.1075863688243.JavaMail.e...",
      "text/html": "<div>\n<style scoped>\n    .dataframe tbody tr th:only-of-type {\n        vertical-align: middle;\n    }\n\n    .dataframe tbody tr th {\n        vertical-align: top;\n    }\n\n    .dataframe thead th {\n        text-align: right;\n    }\n</style>\n<table border=\"1\" class=\"dataframe\">\n  <thead>\n    <tr style=\"text-align: right;\">\n      <th></th>\n      <th>file</th>\n      <th>message</th>\n    </tr>\n  </thead>\n  <tbody>\n    <tr>\n      <th>0</th>\n      <td>allen-p/_sent_mail/1.</td>\n      <td>Message-ID: &lt;18782981.1075855378110.JavaMail.e...</td>\n    </tr>\n    <tr>\n      <th>1</th>\n      <td>allen-p/_sent_mail/10.</td>\n      <td>Message-ID: &lt;15464986.1075855378456.JavaMail.e...</td>\n    </tr>\n    <tr>\n      <th>2</th>\n      <td>allen-p/_sent_mail/100.</td>\n      <td>Message-ID: &lt;24216240.1075855687451.JavaMail.e...</td>\n    </tr>\n    <tr>\n      <th>3</th>\n      <td>allen-p/_sent_mail/1000.</td>\n      <td>Message-ID: &lt;13505866.1075863688222.JavaMail.e...</td>\n    </tr>\n    <tr>\n      <th>4</th>\n      <td>allen-p/_sent_mail/1001.</td>\n      <td>Message-ID: &lt;30922949.1075863688243.JavaMail.e...</td>\n    </tr>\n  </tbody>\n</table>\n</div>"
     },
     "execution_count": 2,
     "metadata": {},
     "output_type": "execute_result"
    }
   ],
   "source": [
    "data = pd.read_csv('enron-email-dataset/emails.csv')\n",
    "data.head()"
   ],
   "metadata": {
    "collapsed": false
   }
  },
  {
   "cell_type": "code",
   "execution_count": 3,
   "outputs": [
    {
     "name": "stdout",
     "output_type": "stream",
     "text": [
      "Message-ID: <18782981.1075855378110.JavaMail.evans@thyme>\n",
      "Date: Mon, 14 May 2001 16:39:00 -0700 (PDT)\n",
      "From: phillip.allen@enron.com\n",
      "To: tim.belden@enron.com\n",
      "Subject: \n",
      "Mime-Version: 1.0\n",
      "Content-Type: text/plain; charset=us-ascii\n",
      "Content-Transfer-Encoding: 7bit\n",
      "X-From: Phillip K Allen\n",
      "X-To: Tim Belden <Tim Belden/Enron@EnronXGate>\n",
      "X-cc: \n",
      "X-bcc: \n",
      "X-Folder: \\Phillip_Allen_Jan2002_1\\Allen, Phillip K.\\'Sent Mail\n",
      "X-Origin: Allen-P\n",
      "X-FileName: pallen (Non-Privileged).pst\n",
      "\n",
      "Here is our forecast\n",
      "\n",
      " \n"
     ]
    }
   ],
   "source": [
    "print(data.message[0])"
   ],
   "metadata": {
    "collapsed": false
   }
  },
  {
   "cell_type": "markdown",
   "source": [
    "## 2. Parse data\n",
    "\n",
    "Let's define some useful function for email parsing"
   ],
   "metadata": {
    "collapsed": false
   }
  },
  {
   "cell_type": "code",
   "execution_count": 11,
   "metadata": {
    "collapsed": true
   },
   "outputs": [],
   "source": [
    "def get_text_from_email(msg: email.message.Message) -> str:\n",
    "    \"\"\"To get the content from email objects\"\"\"\n",
    "    parts = []\n",
    "    for part in msg.walk():\n",
    "        if part.get_content_type() == 'text/plain':\n",
    "            parts.append( part.get_payload() )\n",
    "    return ''.join(parts)\n",
    "\n",
    "def split_email_addresses(line: str) -> frozenset:\n",
    "    \"\"\"To separate multiple email addresses\"\"\"\n",
    "    if line:\n",
    "        addresses = line.split(',')\n",
    "        addresses = tuple(map(lambda x: x.strip(), addresses))\n",
    "    else:\n",
    "        addresses = tuple()\n",
    "    return addresses"
   ]
  },
  {
   "cell_type": "code",
   "execution_count": 13,
   "outputs": [
    {
     "data": {
      "text/plain": "                        Date                        From  \\\n0  2001-05-14 16:39:00-07:00  (phillip.allen@enron.com,)   \n1  2001-05-04 13:51:00-07:00  (phillip.allen@enron.com,)   \n2  2000-10-18 03:00:00-07:00  (phillip.allen@enron.com,)   \n3  2000-10-23 06:13:00-07:00  (phillip.allen@enron.com,)   \n4  2000-08-31 05:07:00-07:00  (phillip.allen@enron.com,)   \n\n                           To    Subject SubjectType  \\\n0     (tim.belden@enron.com,)                  empty   \n1  (john.lavorato@enron.com,)        Re:     replied   \n2   (leah.arsdall@enron.com,)   Re: test     replied   \n3    (randall.gay@enron.com,)                  empty   \n4     (greg.piper@enron.com,)  Re: Hello     replied   \n\n                                             Content  \n0                          Here is our forecast\\n\\n   \n1  Traveling to have a business meeting takes the...  \n2                     test successful.  way to go!!!  \n3  Randy,\\n\\n Can you send me a schedule of the s...  \n4                Let's shoot for Tuesday at 11:45.    ",
      "text/html": "<div>\n<style scoped>\n    .dataframe tbody tr th:only-of-type {\n        vertical-align: middle;\n    }\n\n    .dataframe tbody tr th {\n        vertical-align: top;\n    }\n\n    .dataframe thead th {\n        text-align: right;\n    }\n</style>\n<table border=\"1\" class=\"dataframe\">\n  <thead>\n    <tr style=\"text-align: right;\">\n      <th></th>\n      <th>Date</th>\n      <th>From</th>\n      <th>To</th>\n      <th>Subject</th>\n      <th>SubjectType</th>\n      <th>Content</th>\n    </tr>\n  </thead>\n  <tbody>\n    <tr>\n      <th>0</th>\n      <td>2001-05-14 16:39:00-07:00</td>\n      <td>(phillip.allen@enron.com,)</td>\n      <td>(tim.belden@enron.com,)</td>\n      <td></td>\n      <td>empty</td>\n      <td>Here is our forecast\\n\\n</td>\n    </tr>\n    <tr>\n      <th>1</th>\n      <td>2001-05-04 13:51:00-07:00</td>\n      <td>(phillip.allen@enron.com,)</td>\n      <td>(john.lavorato@enron.com,)</td>\n      <td>Re:</td>\n      <td>replied</td>\n      <td>Traveling to have a business meeting takes the...</td>\n    </tr>\n    <tr>\n      <th>2</th>\n      <td>2000-10-18 03:00:00-07:00</td>\n      <td>(phillip.allen@enron.com,)</td>\n      <td>(leah.arsdall@enron.com,)</td>\n      <td>Re: test</td>\n      <td>replied</td>\n      <td>test successful.  way to go!!!</td>\n    </tr>\n    <tr>\n      <th>3</th>\n      <td>2000-10-23 06:13:00-07:00</td>\n      <td>(phillip.allen@enron.com,)</td>\n      <td>(randall.gay@enron.com,)</td>\n      <td></td>\n      <td>empty</td>\n      <td>Randy,\\n\\n Can you send me a schedule of the s...</td>\n    </tr>\n    <tr>\n      <th>4</th>\n      <td>2000-08-31 05:07:00-07:00</td>\n      <td>(phillip.allen@enron.com,)</td>\n      <td>(greg.piper@enron.com,)</td>\n      <td>Re: Hello</td>\n      <td>replied</td>\n      <td>Let's shoot for Tuesday at 11:45.</td>\n    </tr>\n  </tbody>\n</table>\n</div>"
     },
     "execution_count": 13,
     "metadata": {},
     "output_type": "execute_result"
    }
   ],
   "source": [
    "df = pd.DataFrame()\n",
    "df['Date'] = data['message'].apply(lambda msg: pd.to_datetime(email.message_from_string(msg)['Date'], errors='ignore'))\n",
    "df['From'] = data['message'].apply(lambda msg: split_email_addresses(email.message_from_string(msg)['From']))\n",
    "df['To'] = data['message'].apply(lambda msg: split_email_addresses(email.message_from_string(msg)['To']))\n",
    "df['Subject'] = data['message'].apply(lambda msg: email.message_from_string(msg)['Subject'])\n",
    "df['SubjectType'] = df['Subject'].apply(lambda x: 'replied' if 're:' == x[:3].lower() else\n",
    "                                                  'forwarded' if 'fw:' == x[:3].lower() else\n",
    "                                                  'empty' if len(x) == 0 else\n",
    "                                                  'ordinary')\n",
    "df['Content'] = data['message'].apply(lambda msg: get_text_from_email(email.message_from_string(msg)))\n",
    "df.head()"
   ],
   "metadata": {
    "collapsed": false
   }
  },
  {
   "cell_type": "code",
   "execution_count": 14,
   "outputs": [],
   "source": [
    "df = df.drop_duplicates().sort_values(by='Date', ignore_index=True)"
   ],
   "metadata": {
    "collapsed": false
   }
  },
  {
   "cell_type": "code",
   "execution_count": 15,
   "outputs": [],
   "source": [
    "df.to_csv('./enron-email-dataset/messages.csv', sep='|')"
   ],
   "metadata": {
    "collapsed": false
   }
  },
  {
   "cell_type": "markdown",
   "source": [
    "Description of `messages`:\n",
    "- `Date` - date of sending message\n",
    "- `From` - who send message\n",
    "- `CorpFromFlg` - `True` if 'from' email is corporate\n",
    "- `To` - who get message\n",
    "- `CorpToFlg` - `True` if 'to' email is corporate\n",
    "- `Subject` - email's subject\n",
    "- `SubjectType` - one of [`empty`, `replied`, `forwarded`, `ordinary`]\n",
    "- `Content` - content of message"
   ],
   "metadata": {
    "collapsed": false
   }
  },
  {
   "cell_type": "code",
   "execution_count": null,
   "outputs": [
    {
     "name": "stderr",
     "output_type": "stream",
     "text": [
      " 31%|███       | 78307/255493 [17:45<1:01:42, 47.85it/s]"
     ]
    }
   ],
   "source": [
    "from tqdm import tqdm\n",
    "employee = pd.DataFrame(columns=['Email', 'Name', 'FirstMessageDate', 'LastMessageDate'])\n",
    "for message_id, row in tqdm(df.iterrows(), total=len(df)):\n",
    "    for email in row['From']:\n",
    "        if '@enron.com' in email and email not in employee['Email']:\n",
    "            employee = pd.concat(\n",
    "                [employee if not employee.empty else None,\n",
    "                 pd.DataFrame(\n",
    "                     {\n",
    "                         'Email': [email],\n",
    "                         'Name': [[_.capitalize() for _ in email.replace('@enron.com', '').split('.')]],\n",
    "                         'FirstMessageDate': [row['Date']],\n",
    "                         'LastMessageDate': [None]\n",
    "                     })\n",
    "                 ]\n",
    "            )\n",
    "employee.head()"
   ],
   "metadata": {
    "collapsed": false,
    "pycharm": {
     "is_executing": true
    }
   }
  },
  {
   "cell_type": "code",
   "execution_count": null,
   "outputs": [],
   "source": [
    "for idx, row in employee.iterrows():\n",
    "    employee.loc[idx, 'LastMessageDate'] = df[df['From'] in row['Email']][['Date', 'From']].sort_values(by='Date').iloc[-1, 1]]"
   ],
   "metadata": {
    "collapsed": false
   }
  }
 ],
 "metadata": {
  "kernelspec": {
   "display_name": "Python 3",
   "language": "python",
   "name": "python3"
  },
  "language_info": {
   "codemirror_mode": {
    "name": "ipython",
    "version": 2
   },
   "file_extension": ".py",
   "mimetype": "text/x-python",
   "name": "python",
   "nbconvert_exporter": "python",
   "pygments_lexer": "ipython2",
   "version": "2.7.6"
  }
 },
 "nbformat": 4,
 "nbformat_minor": 0
}
